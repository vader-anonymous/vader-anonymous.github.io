{
 "cells": [
  {
   "cell_type": "code",
   "execution_count": 1,
   "metadata": {},
   "outputs": [],
   "source": [
    "# import\n",
    "from transformers import AutoProcessor, AutoModel\n",
    "from PIL import Image\n",
    "import torch\n",
    "import numpy as np\n",
    "import torchvision"
   ]
  },
  {
   "cell_type": "code",
   "execution_count": 4,
   "metadata": {},
   "outputs": [
    {
     "name": "stderr",
     "output_type": "stream",
     "text": [
      "100%|██████████| 498/498 [02:00<00:00,  4.14it/s]\n"
     ]
    }
   ],
   "source": [
    "import subprocess\n",
    "import os\n",
    "import tqdm\n",
    "\n",
    "def compress_video(input_file, output_file, crf=28):\n",
    "    \"\"\"\n",
    "    Compress a video file using H.265 codec (HEVC).\n",
    "\n",
    "    Args:\n",
    "    - input_file (str): Path to the input video file.\n",
    "    - output_file (str): Path to save the compressed video file.\n",
    "    - crf (int): Constant Rate Factor for quality control (0-51, where lower is better quality).\n",
    "    \"\"\"\n",
    "    # command = [\n",
    "    #     'ffmpeg',\n",
    "    #     '-i', input_file,\n",
    "    #     '-c:v', 'libx265',\n",
    "    #     '-crf', str(crf),\n",
    "    #     '-preset', 'medium',  # other options: ultrafast, superfast, veryfast, faster, fast, slow, slower, veryslow\n",
    "    #     output_file\n",
    "    # ]\n",
    "    command = [\n",
    "        'ffmpeg',\n",
    "        '-i', input_file,\n",
    "        '-c:v', 'libx265',\n",
    "        '-crf', str(crf),\n",
    "        '-preset', 'medium',\n",
    "        '-tag:v', 'hvc1',  # Ensure compatibility with Safari\n",
    "        '-c:a', 'aac',  # Use AAC audio codec for compatibility\n",
    "        output_file\n",
    "    ]\n",
    "\n",
    "    subprocess.run(command, check=True)\n",
    "\n",
    "folder = \"flower_a_hps\"\n",
    "\n",
    "# loop through all the video files in the folder\n",
    "for file in tqdm.tqdm(os.listdir(folder)):\n",
    "    if file.endswith('.mp4'):\n",
    "        input_file = os.path.join(folder, file)\n",
    "        output_file = os.path.join(folder, 'compressed_' + file)\n",
    "        compress_video(input_file, output_file, crf=25)\n",
    "\n",
    "# output_file = 'output.mp4'\n",
    "# compress_video(input_file, output_file, crf=18)"
   ]
  },
  {
   "cell_type": "code",
   "execution_count": 5,
   "metadata": {},
   "outputs": [
    {
     "name": "stderr",
     "output_type": "stream",
     "text": [
      "100%|██████████| 1389/1389 [00:00<00:00, 5451.99it/s]\n"
     ]
    }
   ],
   "source": [
    "import subprocess\n",
    "import os\n",
    "import tqdm\n",
    "\n",
    "\n",
    "# remove the original video files and rename the compressed files (compressed_0000.mp4) to the original names (0000.mp4)\n",
    "folder = \"1videocrafter/samples\"\n",
    "for file in tqdm.tqdm(os.listdir(folder)):\n",
    "    if file.startswith('compressed_'):\n",
    "        original_file = file.replace('compressed_', '')\n",
    "        os.remove(os.path.join(folder, original_file))\n",
    "        os.rename(os.path.join(folder, file), os.path.join(folder, original_file))"
   ]
  },
  {
   "cell_type": "code",
   "execution_count": null,
   "metadata": {},
   "outputs": [],
   "source": []
  },
  {
   "cell_type": "code",
   "execution_count": null,
   "metadata": {},
   "outputs": [],
   "source": []
  },
  {
   "cell_type": "code",
   "execution_count": null,
   "metadata": {},
   "outputs": [],
   "source": []
  }
 ],
 "metadata": {
  "kernelspec": {
   "display_name": "pytorch",
   "language": "python",
   "name": "python3"
  },
  "language_info": {
   "codemirror_mode": {
    "name": "ipython",
    "version": 3
   },
   "file_extension": ".py",
   "mimetype": "text/x-python",
   "name": "python",
   "nbconvert_exporter": "python",
   "pygments_lexer": "ipython3",
   "version": "3.10.6"
  }
 },
 "nbformat": 4,
 "nbformat_minor": 2
}
